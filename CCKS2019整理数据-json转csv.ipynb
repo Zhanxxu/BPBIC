{
 "cells": [
  {
   "cell_type": "markdown",
   "metadata": {},
   "source": [
    "## 导入json文件"
   ]
  },
  {
   "cell_type": "code",
   "execution_count": 47,
   "metadata": {},
   "outputs": [],
   "source": [
    "import pandas as pd\n",
    "import json\n",
    "from tqdm import tqdm\n",
    "df = pd.DataFrame()\n",
    "data_path = r'C:\\Users\\zxyy\\Desktop\\KG_dataset.json'"
   ]
  },
  {
   "cell_type": "code",
   "execution_count": 47,
   "outputs": [],
   "source": [],
   "metadata": {
    "collapsed": false,
    "pycharm": {
     "name": "#%%\n"
    }
   }
  },
  {
   "cell_type": "markdown",
   "metadata": {},
   "source": [
    "## json转dataframe"
   ]
  },
  {
   "cell_type": "code",
   "execution_count": 48,
   "metadata": {},
   "outputs": [
    {
     "name": "stderr",
     "output_type": "stream",
     "text": [
      "0it [00:00, ?it/s]C:\\Users\\zxyy\\AppData\\Local\\Temp/ipykernel_30624/3881997536.py:11: FutureWarning: The frame.append method is deprecated and will be removed from pandas in a future version. Use pandas.concat instead.\n",
      "  df = df.append(temp_data, ignore_index=True)\n",
      "C:\\Users\\zxyy\\AppData\\Local\\Temp/ipykernel_30624/3881997536.py:11: FutureWarning: The frame.append method is deprecated and will be removed from pandas in a future version. Use pandas.concat instead.\n",
      "  df = df.append(temp_data, ignore_index=True)\n",
      "C:\\Users\\zxyy\\AppData\\Local\\Temp/ipykernel_30624/3881997536.py:11: FutureWarning: The frame.append method is deprecated and will be removed from pandas in a future version. Use pandas.concat instead.\n",
      "  df = df.append(temp_data, ignore_index=True)\n",
      "C:\\Users\\zxyy\\AppData\\Local\\Temp/ipykernel_30624/3881997536.py:11: FutureWarning: The frame.append method is deprecated and will be removed from pandas in a future version. Use pandas.concat instead.\n",
      "  df = df.append(temp_data, ignore_index=True)\n",
      "C:\\Users\\zxyy\\AppData\\Local\\Temp/ipykernel_30624/3881997536.py:11: FutureWarning: The frame.append method is deprecated and will be removed from pandas in a future version. Use pandas.concat instead.\n",
      "  df = df.append(temp_data, ignore_index=True)\n",
      "C:\\Users\\zxyy\\AppData\\Local\\Temp/ipykernel_30624/3881997536.py:11: FutureWarning: The frame.append method is deprecated and will be removed from pandas in a future version. Use pandas.concat instead.\n",
      "  df = df.append(temp_data, ignore_index=True)\n",
      "C:\\Users\\zxyy\\AppData\\Local\\Temp/ipykernel_30624/3881997536.py:11: FutureWarning: The frame.append method is deprecated and will be removed from pandas in a future version. Use pandas.concat instead.\n",
      "  df = df.append(temp_data, ignore_index=True)\n",
      "C:\\Users\\zxyy\\AppData\\Local\\Temp/ipykernel_30624/3881997536.py:11: FutureWarning: The frame.append method is deprecated and will be removed from pandas in a future version. Use pandas.concat instead.\n",
      "  df = df.append(temp_data, ignore_index=True)\n",
      "C:\\Users\\zxyy\\AppData\\Local\\Temp/ipykernel_30624/3881997536.py:11: FutureWarning: The frame.append method is deprecated and will be removed from pandas in a future version. Use pandas.concat instead.\n",
      "  df = df.append(temp_data, ignore_index=True)\n",
      "9it [00:00, 103.48it/s]\n"
     ]
    }
   ],
   "source": [
    "p_feature = ['name',  'Dsa', 'Chk', 'Ins','Sur', 'Med', 'Ana', 'symptom', 'inspect/check_result', 'first_visit','return_visit' 'general_condition_since_onset']\n",
    "\n",
    "for data in tqdm(open(data_path, encoding='utf-8')):\n",
    "    temp_data = json.loads(data)\n",
    "    for each in p_feature:\n",
    "        try:\n",
    "            temp_data[each] = ','.join(temp_data[each])\n",
    "        except:\n",
    "            pass\n",
    "    \n",
    "    df = df.append(temp_data, ignore_index=True)\n",
    "del df['_id']\n"
   ]
  },
  {
   "cell_type": "markdown",
   "metadata": {},
   "source": [
    "## 调整列名和顺序"
   ]
  },
  {
   "cell_type": "code",
   "execution_count": 48,
   "metadata": {},
   "outputs": [],
   "source": []
  },
  {
   "cell_type": "code",
   "execution_count": 49,
   "outputs": [],
   "source": [
    "orders = ['name',  'Dsa', 'Chk', 'Ins','Sur', 'Med', 'Ana', 'symptom', 'inspect/check_result', 'first_visit','return_visit','general_condition_since_onset']\n",
    "df = df[orders]\n",
    "orders_cn = ['患者','疾病和诊断','检查','检验','手术','药物','解剖部位','症状','检验/检查结果','初诊','复诊','发病以来的一般情况']\n",
    "df.columns = orders_cn\n",
    "df['患者']=df['患者'].str.replace(',','')\n",
    "df['检验/检查结果']=df['检验/检查结果'].str.replace(',','')\n",
    "df['初诊']=df['初诊'].str.replace(',','')\n",
    "\n"
   ],
   "metadata": {
    "collapsed": false,
    "pycharm": {
     "name": "#%%\n"
    }
   }
  },
  {
   "cell_type": "code",
   "execution_count": 50,
   "metadata": {},
   "outputs": [
    {
     "data": {
      "text/plain": "    患者                                              疾病和诊断  \\\n0  患者1                                         颗粒细胞瘤IIIC期   \n1  患者2                             直肠癌,直肠腺癌（中低度分化）,浸润溃疡型.   \n2  患者3  子宫内膜复杂性增生,子宫内膜复杂性增生,部分腺体呈高级别下皮内瘤变,部分区域为高分化子宫内膜...   \n3  患者4      胃体胃窦癌(CT4N2M0,IIIB期),胃中至低分化管状腺癌（LAUREN，分型：肠型）   \n4  患者5  心包腔积液,左下肺感染,肺气肿,胸椎骨质增生,左下叶感染,两上肺支气管扩张伴感染,囊性病变,...   \n5  患者6  肾功能不全、肾性贫血,慢性肾脏病5期,原发性高血压3级,高血压性心脏病,2型糖尿病,甲状腺功...   \n6  患者7  慢性阻塞性肺疾病急性加重期,泌尿道感染,感染性休克 代偿期,前列腺增生,慢性前列腺炎,慢性尿...   \n7  患者8  脑梗死,脑萎缩,脑梗死后遗症,脂肪肝,胆囊结石,左肾结石,两侧筛窦炎,短暂性脑缺血发作,高血...   \n8  患者9                         胃恶性肿瘤,幽门梗阻,纤维脂肪组织内浸润的低分化腺癌   \n\n                              检查                                      检验  \\\n0                             CT                                           \n1                                                                 免疫组化染色   \n2                                                                 免疫组化染色   \n3                         完善相关检查                                           \n4              心脏彩超,腹部彩超,胸片,胸部CT                                  血气分析全套   \n5               腹部彩超,心脏彩超,胸部CT平扫  血常规,肾功,血肌酐,甲状旁腺激素,内生肌酐清除率,电解质,钾,钠,氯,血糖   \n6                                                    血气分析,肾功,心肌酶,电解质,血常规   \n7  头颈部CTA,胃镜,CTA,心脏彩超,腹部彩超,颈动脉彩超                               糖化血红蛋白,血脂   \n8                          病理学检查                                           \n\n                                                  手术                     药物  \\\n0  全子宫左附件切除+盆腔肿物切除+右半结肠切除+DIXON术,剖腹探查+膀胱旁肿物切除+骶前肿...                 泰素,伯尔定   \n1                                     直肠癌根治术（DIXON术）          奥沙利铂,亚叶酸钙,替加氟   \n2                           全子宫切除术+两侧输卵管切除术+盆腔粘连松解术。                          \n3                                       胃癌根治术（远端胃大切）          希罗达,奥沙利铂,卡培他滨   \n4                                                                       利尿剂   \n5                                                     格列齐特,消渴丸,二甲两胍,优思林,诺和锐   \n6                                        冠脉支架及起搏器置入术      头孢唑肟,血必净,哌拉西林他坐巴坦   \n7                                                                             \n8                                      胃空肠吻合+空肠侧侧吻合术                          \n\n                                     解剖部位  \\\n0              腹,肠,子宫,髂嵴水平上腹部L5腰椎,膀胱,骶前,胃   \n1             肠壁一站（10个）、中间组（8个）淋巴结,肝,腹,肛门   \n2  左前腹,肝脏,肠管,盆腹腔,子宫,肠,右侧卵巢,左侧卵巢,输卵管,子宫颈外口   \n3                                     腹,胃   \n4                  心,二尖瓣,三尖瓣,肺动脉,腹,肺,胸,膈面   \n5                            两上肢,腹腔,肾,胸,心   \n6                                       腰   \n7                       二尖瓣,肺动脉瓣,主动脉瓣,头,心   \n8                腹,肝脏,胃窦小弯侧,胃,十二指肠,胰腺,淋巴结   \n\n                                                  症状  \\\n0                                          腹胀,发现腹部包块   \n1                          便意频繁,排便习惯改变,排便前肛门下坠感,里急后重   \n2                                          子宫内膜复杂性增生   \n3                                            下腹腹胀伴反酸   \n4  咳嗽,咳痰,咳嗽咳痰时伴喘累,活动后心累,受凉后喘累、气促,伴咳嗽、咳痰,自诉痰呈白色丝状,...   \n5  两上肢浮肿、尿量减少、喘累,胸闷心悸,无明显诱因开始出现咳嗽咳白色粘痰，量少，伴心累气促，活...   \n6  慢性咳嗽、咳痰，每日均咳白色泡沫痰，受凉后症状加重，偶咳嗽加剧时伴喘累,5年前患者感体力耐量...   \n7  右侧肢体乏力,伴口齿不清,反复出现头昏，阵发性发作,自觉乏力、站立不稳、心悸，并出现左下肢抽...   \n8                                               胃部疼痛   \n\n                                             检验/检查结果  \\\n0  CT示：髂嵴水平上腹部L5腰椎前见软组织肿块，大小约30MM×45MM，密度欠均匀，边界尚清...   \n1        免疫组化染色示：ERCC1弥漫（+）、TS少部分弱（+）、SYN（-）、CGA（-）。   \n2                      免疫组化染色示：ER（+）、PR（+）、P53少量（+）。   \n3                                             完善相关检查   \n4  心脏彩超示右房、左房、左室增大，主动脉瓣、二尖瓣轻度反流，三尖瓣重度反流，肺动脉重度高压，心...   \n5  血常规： Hb：87g/l，肾功：血肌酐：394umol/L，考虑肾功能不全、肾性贫血，后到...   \n6  血气分析：PH 7.42，PaO2 93mmHg，PaCO2 31mmHg，标准碳酸氢根22...   \n7  查糖化血红蛋白：7.1 %。血脂：甘油三酯 3.74 mmol/l、总胆固醇 5.89 mm...   \n8            大网膜）纤维脂肪组织内浸润的低分化腺癌。 胃型粘膜充血、水肿，轻度急慢性发炎。   \n\n                                                  初诊  \\\n0  行“全子宫左附件切除+盆腔肿物切除+右半结肠切除+DIXON术”术后自2008年11月起行B...   \n1  行直肠癌根治术（DIXON术），手术过程顺利，术后给予抗感染及营养支持治疗，术后查无化疗禁忌...   \n2           因“子宫内膜复杂性增生”在我院行全子宫切除术+两侧输卵管切除术+盆腔粘连松解术。   \n3                                7月前因“下腹腹胀伴反酸”至我院就诊。   \n4  前10+年患者开始出现咳嗽、咳痰，多于冬春季及受凉后发作，抗感染治疗有效，每年发作超过3个月...   \n5  入院半年前发现两上肢浮肿、尿量减少、喘累，到****医院查血常规给予血液净化治疗、降压、降糖...   \n6  10+年前始逐渐出现慢性咳嗽、咳痰，每日均咳白色泡沫痰，受凉后症状加重，偶咳嗽加剧时伴喘累，...   \n7  入院前5+年，患者因右侧肢体乏力，伴口齿不清，在外院明确诊断“脑梗死”，经治疗后好转出院，出...   \n8  行术后化疗相关辅助治疗指征存在；依情于2017-7-19开始予行术后首周期辅助化疗，同时辅以...   \n\n                                                  复诊  \\\n0  2015-6-1，复查CT示：髂嵴水平上腹部L5腰椎前见软组织肿块，大小约30MM×45MM...   \n1                         复查及化疗再次来院就诊，门诊以“直肠癌术后”收入院。   \n2                     患者为行进一步治疗来院就诊，门诊以“子宫内膜病变术后”收入院   \n3                            化疗来我院就诊，拟“胃癌综合治疗后”收入我科。   \n4  昨日夜间再次感咳嗽明显，伴气促，故就诊我院门诊，查血气分析全套,胸片示左下肺感染性病变，侧位...   \n5  入院前半月患者无明显诱因开始出现咳嗽咳白色粘痰，量少，伴心累气促，活动后加重，伴颜面及两上肢...   \n6                      以“发热待查：肺部感染？尿路感染？感染性休克？”收入我科。   \n7  患者无明显诱因再次出现头昏，伴肢体乏力，发作时伴站立不稳、头昏加重、眼花，持续1小时右左，无...   \n8                  患者现为求进一步治疗来院就诊，门诊依情以“胃恶性肿瘤术后”收入院。   \n\n                                           发病以来的一般情况  \n0                           精神、胃纳、睡眠可，大小便正常，体重无明显改变。  \n1  患者一般情况好，无恶心，无腹痛腹胀胀不适，精神可，饮食可，大便正常，小便正常，近期体重无明显变化。  \n2         患者自发病以来，一般情况可，精神、睡眠良好，饮食一般，大小便无异常，体重无明显改变。  \n3                    自出院以来，患者精神可，食欲尚可，大小便正常，体重无明显上降。  \n4                 患者此次起病后精神、食欲、睡眠一般，大小便正常，体力体重无明显变化。  \n5  患者自患病以来，精神、睡眠可，食欲差，大便结燥，院外服用泻药，具体不详，后今日解稀便2次，小...  \n6             患者本次患病来，精神、睡眠、食欲欠佳，大便正常，小便如下述，体重无明显改变。  \n7                  患者自发病以来精神、食欲一般，大小便未诉异常。近期体重无明显减轻。  \n8                患者精神及情绪状态良好，食欲、饮食好，夜间睡眠后；近期无明显体重变化。  ",
      "text/html": "<div>\n<style scoped>\n    .dataframe tbody tr th:only-of-type {\n        vertical-align: middle;\n    }\n\n    .dataframe tbody tr th {\n        vertical-align: top;\n    }\n\n    .dataframe thead th {\n        text-align: right;\n    }\n</style>\n<table border=\"1\" class=\"dataframe\">\n  <thead>\n    <tr style=\"text-align: right;\">\n      <th></th>\n      <th>患者</th>\n      <th>疾病和诊断</th>\n      <th>检查</th>\n      <th>检验</th>\n      <th>手术</th>\n      <th>药物</th>\n      <th>解剖部位</th>\n      <th>症状</th>\n      <th>检验/检查结果</th>\n      <th>初诊</th>\n      <th>复诊</th>\n      <th>发病以来的一般情况</th>\n    </tr>\n  </thead>\n  <tbody>\n    <tr>\n      <th>0</th>\n      <td>患者1</td>\n      <td>颗粒细胞瘤IIIC期</td>\n      <td>CT</td>\n      <td></td>\n      <td>全子宫左附件切除+盆腔肿物切除+右半结肠切除+DIXON术,剖腹探查+膀胱旁肿物切除+骶前肿...</td>\n      <td>泰素,伯尔定</td>\n      <td>腹,肠,子宫,髂嵴水平上腹部L5腰椎,膀胱,骶前,胃</td>\n      <td>腹胀,发现腹部包块</td>\n      <td>CT示：髂嵴水平上腹部L5腰椎前见软组织肿块，大小约30MM×45MM，密度欠均匀，边界尚清...</td>\n      <td>行“全子宫左附件切除+盆腔肿物切除+右半结肠切除+DIXON术”术后自2008年11月起行B...</td>\n      <td>2015-6-1，复查CT示：髂嵴水平上腹部L5腰椎前见软组织肿块，大小约30MM×45MM...</td>\n      <td>精神、胃纳、睡眠可，大小便正常，体重无明显改变。</td>\n    </tr>\n    <tr>\n      <th>1</th>\n      <td>患者2</td>\n      <td>直肠癌,直肠腺癌（中低度分化）,浸润溃疡型.</td>\n      <td></td>\n      <td>免疫组化染色</td>\n      <td>直肠癌根治术（DIXON术）</td>\n      <td>奥沙利铂,亚叶酸钙,替加氟</td>\n      <td>肠壁一站（10个）、中间组（8个）淋巴结,肝,腹,肛门</td>\n      <td>便意频繁,排便习惯改变,排便前肛门下坠感,里急后重</td>\n      <td>免疫组化染色示：ERCC1弥漫（+）、TS少部分弱（+）、SYN（-）、CGA（-）。</td>\n      <td>行直肠癌根治术（DIXON术），手术过程顺利，术后给予抗感染及营养支持治疗，术后查无化疗禁忌...</td>\n      <td>复查及化疗再次来院就诊，门诊以“直肠癌术后”收入院。</td>\n      <td>患者一般情况好，无恶心，无腹痛腹胀胀不适，精神可，饮食可，大便正常，小便正常，近期体重无明显变化。</td>\n    </tr>\n    <tr>\n      <th>2</th>\n      <td>患者3</td>\n      <td>子宫内膜复杂性增生,子宫内膜复杂性增生,部分腺体呈高级别下皮内瘤变,部分区域为高分化子宫内膜...</td>\n      <td></td>\n      <td>免疫组化染色</td>\n      <td>全子宫切除术+两侧输卵管切除术+盆腔粘连松解术。</td>\n      <td></td>\n      <td>左前腹,肝脏,肠管,盆腹腔,子宫,肠,右侧卵巢,左侧卵巢,输卵管,子宫颈外口</td>\n      <td>子宫内膜复杂性增生</td>\n      <td>免疫组化染色示：ER（+）、PR（+）、P53少量（+）。</td>\n      <td>因“子宫内膜复杂性增生”在我院行全子宫切除术+两侧输卵管切除术+盆腔粘连松解术。</td>\n      <td>患者为行进一步治疗来院就诊，门诊以“子宫内膜病变术后”收入院</td>\n      <td>患者自发病以来，一般情况可，精神、睡眠良好，饮食一般，大小便无异常，体重无明显改变。</td>\n    </tr>\n    <tr>\n      <th>3</th>\n      <td>患者4</td>\n      <td>胃体胃窦癌(CT4N2M0,IIIB期),胃中至低分化管状腺癌（LAUREN，分型：肠型）</td>\n      <td>完善相关检查</td>\n      <td></td>\n      <td>胃癌根治术（远端胃大切）</td>\n      <td>希罗达,奥沙利铂,卡培他滨</td>\n      <td>腹,胃</td>\n      <td>下腹腹胀伴反酸</td>\n      <td>完善相关检查</td>\n      <td>7月前因“下腹腹胀伴反酸”至我院就诊。</td>\n      <td>化疗来我院就诊，拟“胃癌综合治疗后”收入我科。</td>\n      <td>自出院以来，患者精神可，食欲尚可，大小便正常，体重无明显上降。</td>\n    </tr>\n    <tr>\n      <th>4</th>\n      <td>患者5</td>\n      <td>心包腔积液,左下肺感染,肺气肿,胸椎骨质增生,左下叶感染,两上肺支气管扩张伴感染,囊性病变,...</td>\n      <td>心脏彩超,腹部彩超,胸片,胸部CT</td>\n      <td>血气分析全套</td>\n      <td></td>\n      <td>利尿剂</td>\n      <td>心,二尖瓣,三尖瓣,肺动脉,腹,肺,胸,膈面</td>\n      <td>咳嗽,咳痰,咳嗽咳痰时伴喘累,活动后心累,受凉后喘累、气促,伴咳嗽、咳痰,自诉痰呈白色丝状,...</td>\n      <td>心脏彩超示右房、左房、左室增大，主动脉瓣、二尖瓣轻度反流，三尖瓣重度反流，肺动脉重度高压，心...</td>\n      <td>前10+年患者开始出现咳嗽、咳痰，多于冬春季及受凉后发作，抗感染治疗有效，每年发作超过3个月...</td>\n      <td>昨日夜间再次感咳嗽明显，伴气促，故就诊我院门诊，查血气分析全套,胸片示左下肺感染性病变，侧位...</td>\n      <td>患者此次起病后精神、食欲、睡眠一般，大小便正常，体力体重无明显变化。</td>\n    </tr>\n    <tr>\n      <th>5</th>\n      <td>患者6</td>\n      <td>肾功能不全、肾性贫血,慢性肾脏病5期,原发性高血压3级,高血压性心脏病,2型糖尿病,甲状腺功...</td>\n      <td>腹部彩超,心脏彩超,胸部CT平扫</td>\n      <td>血常规,肾功,血肌酐,甲状旁腺激素,内生肌酐清除率,电解质,钾,钠,氯,血糖</td>\n      <td></td>\n      <td>格列齐特,消渴丸,二甲两胍,优思林,诺和锐</td>\n      <td>两上肢,腹腔,肾,胸,心</td>\n      <td>两上肢浮肿、尿量减少、喘累,胸闷心悸,无明显诱因开始出现咳嗽咳白色粘痰，量少，伴心累气促，活...</td>\n      <td>血常规： Hb：87g/l，肾功：血肌酐：394umol/L，考虑肾功能不全、肾性贫血，后到...</td>\n      <td>入院半年前发现两上肢浮肿、尿量减少、喘累，到****医院查血常规给予血液净化治疗、降压、降糖...</td>\n      <td>入院前半月患者无明显诱因开始出现咳嗽咳白色粘痰，量少，伴心累气促，活动后加重，伴颜面及两上肢...</td>\n      <td>患者自患病以来，精神、睡眠可，食欲差，大便结燥，院外服用泻药，具体不详，后今日解稀便2次，小...</td>\n    </tr>\n    <tr>\n      <th>6</th>\n      <td>患者7</td>\n      <td>慢性阻塞性肺疾病急性加重期,泌尿道感染,感染性休克 代偿期,前列腺增生,慢性前列腺炎,慢性尿...</td>\n      <td></td>\n      <td>血气分析,肾功,心肌酶,电解质,血常规</td>\n      <td>冠脉支架及起搏器置入术</td>\n      <td>头孢唑肟,血必净,哌拉西林他坐巴坦</td>\n      <td>腰</td>\n      <td>慢性咳嗽、咳痰，每日均咳白色泡沫痰，受凉后症状加重，偶咳嗽加剧时伴喘累,5年前患者感体力耐量...</td>\n      <td>血气分析：PH 7.42，PaO2 93mmHg，PaCO2 31mmHg，标准碳酸氢根22...</td>\n      <td>10+年前始逐渐出现慢性咳嗽、咳痰，每日均咳白色泡沫痰，受凉后症状加重，偶咳嗽加剧时伴喘累，...</td>\n      <td>以“发热待查：肺部感染？尿路感染？感染性休克？”收入我科。</td>\n      <td>患者本次患病来，精神、睡眠、食欲欠佳，大便正常，小便如下述，体重无明显改变。</td>\n    </tr>\n    <tr>\n      <th>7</th>\n      <td>患者8</td>\n      <td>脑梗死,脑萎缩,脑梗死后遗症,脂肪肝,胆囊结石,左肾结石,两侧筛窦炎,短暂性脑缺血发作,高血...</td>\n      <td>头颈部CTA,胃镜,CTA,心脏彩超,腹部彩超,颈动脉彩超</td>\n      <td>糖化血红蛋白,血脂</td>\n      <td></td>\n      <td></td>\n      <td>二尖瓣,肺动脉瓣,主动脉瓣,头,心</td>\n      <td>右侧肢体乏力,伴口齿不清,反复出现头昏，阵发性发作,自觉乏力、站立不稳、心悸，并出现左下肢抽...</td>\n      <td>查糖化血红蛋白：7.1 %。血脂：甘油三酯 3.74 mmol/l、总胆固醇 5.89 mm...</td>\n      <td>入院前5+年，患者因右侧肢体乏力，伴口齿不清，在外院明确诊断“脑梗死”，经治疗后好转出院，出...</td>\n      <td>患者无明显诱因再次出现头昏，伴肢体乏力，发作时伴站立不稳、头昏加重、眼花，持续1小时右左，无...</td>\n      <td>患者自发病以来精神、食欲一般，大小便未诉异常。近期体重无明显减轻。</td>\n    </tr>\n    <tr>\n      <th>8</th>\n      <td>患者9</td>\n      <td>胃恶性肿瘤,幽门梗阻,纤维脂肪组织内浸润的低分化腺癌</td>\n      <td>病理学检查</td>\n      <td></td>\n      <td>胃空肠吻合+空肠侧侧吻合术</td>\n      <td></td>\n      <td>腹,肝脏,胃窦小弯侧,胃,十二指肠,胰腺,淋巴结</td>\n      <td>胃部疼痛</td>\n      <td>大网膜）纤维脂肪组织内浸润的低分化腺癌。 胃型粘膜充血、水肿，轻度急慢性发炎。</td>\n      <td>行术后化疗相关辅助治疗指征存在；依情于2017-7-19开始予行术后首周期辅助化疗，同时辅以...</td>\n      <td>患者现为求进一步治疗来院就诊，门诊依情以“胃恶性肿瘤术后”收入院。</td>\n      <td>患者精神及情绪状态良好，食欲、饮食好，夜间睡眠后；近期无明显体重变化。</td>\n    </tr>\n  </tbody>\n</table>\n</div>"
     },
     "execution_count": 50,
     "metadata": {},
     "output_type": "execute_result"
    }
   ],
   "source": [
    "df.head(10)"
   ]
  },
  {
   "cell_type": "code",
   "execution_count": 51,
   "metadata": {
    "scrolled": false
   },
   "outputs": [
    {
     "data": {
      "text/plain": "患者                                                         患者1\n疾病和诊断                                               颗粒细胞瘤IIIC期\n检查                                                          CT\n检验                                                            \n手术           全子宫左附件切除+盆腔肿物切除+右半结肠切除+DIXON术,剖腹探查+膀胱旁肿物切除+骶前肿...\n药物                                                      泰素,伯尔定\n解剖部位                                腹,肠,子宫,髂嵴水平上腹部L5腰椎,膀胱,骶前,胃\n症状                                                   腹胀,发现腹部包块\n检验/检查结果      CT示：髂嵴水平上腹部L5腰椎前见软组织肿块，大小约30MM×45MM，密度欠均匀，边界尚清...\n初诊           行“全子宫左附件切除+盆腔肿物切除+右半结肠切除+DIXON术”术后自2008年11月起行B...\n复诊           2015-6-1，复查CT示：髂嵴水平上腹部L5腰椎前见软组织肿块，大小约30MM×45MM...\n发病以来的一般情况                             精神、胃纳、睡眠可，大小便正常，体重无明显改变。\nName: 0, dtype: object"
     },
     "execution_count": 51,
     "metadata": {},
     "output_type": "execute_result"
    }
   ],
   "source": [
    "df.iloc[0]"
   ]
  },
  {
   "cell_type": "markdown",
   "metadata": {},
   "source": [
    "## 导出csv文件"
   ]
  },
  {
   "cell_type": "code",
   "execution_count": 52,
   "metadata": {},
   "outputs": [],
   "source": [
    "df.to_csv('CCKS2019.csv', index=False)"
   ]
  },
  {
   "cell_type": "code",
   "execution_count": 52,
   "metadata": {},
   "outputs": [],
   "source": []
  },
  {
   "cell_type": "code",
   "execution_count": 52,
   "outputs": [],
   "source": [],
   "metadata": {
    "collapsed": false,
    "pycharm": {
     "name": "#%%\n"
    }
   }
  }
 ],
 "metadata": {
  "kernelspec": {
   "display_name": "Python 3",
   "language": "python",
   "name": "python3"
  },
  "language_info": {
   "codemirror_mode": {
    "name": "ipython",
    "version": 3
   },
   "file_extension": ".py",
   "mimetype": "text/x-python",
   "name": "python",
   "nbconvert_exporter": "python",
   "pygments_lexer": "ipython3",
   "version": "3.7.2"
  }
 },
 "nbformat": 4,
 "nbformat_minor": 4
}